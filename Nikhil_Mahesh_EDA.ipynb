{
 "cells": [
  {
   "cell_type": "markdown",
   "id": "81f8105a",
   "metadata": {},
   "source": [
    "<b>Importing"
   ]
  },
  {
   "cell_type": "code",
   "execution_count": 1,
   "id": "7edc7ce9",
   "metadata": {},
   "outputs": [],
   "source": [
    "import numpy as np\n",
    "import pandas as pd\n",
    "import matplotlib.pyplot as plt\n",
    "import seaborn as sns"
   ]
  },
  {
   "cell_type": "markdown",
   "id": "67457ded",
   "metadata": {},
   "source": [
    "<b>Data Collection"
   ]
  },
  {
   "cell_type": "markdown",
   "id": "a72ed9dd",
   "metadata": {},
   "source": [
    "Importing 3 datasets:Customers, Transactions, Products"
   ]
  },
  {
   "cell_type": "code",
   "execution_count": 2,
   "id": "229a0d09",
   "metadata": {},
   "outputs": [
    {
     "data": {
      "text/html": [
       "<div>\n",
       "<style scoped>\n",
       "    .dataframe tbody tr th:only-of-type {\n",
       "        vertical-align: middle;\n",
       "    }\n",
       "\n",
       "    .dataframe tbody tr th {\n",
       "        vertical-align: top;\n",
       "    }\n",
       "\n",
       "    .dataframe thead th {\n",
       "        text-align: right;\n",
       "    }\n",
       "</style>\n",
       "<table border=\"1\" class=\"dataframe\">\n",
       "  <thead>\n",
       "    <tr style=\"text-align: right;\">\n",
       "      <th></th>\n",
       "      <th>CustomerID</th>\n",
       "      <th>CustomerName</th>\n",
       "      <th>Region</th>\n",
       "      <th>SignupDate</th>\n",
       "    </tr>\n",
       "  </thead>\n",
       "  <tbody>\n",
       "    <tr>\n",
       "      <th>94</th>\n",
       "      <td>C0095</td>\n",
       "      <td>William Walker</td>\n",
       "      <td>South America</td>\n",
       "      <td>2023-03-04</td>\n",
       "    </tr>\n",
       "    <tr>\n",
       "      <th>0</th>\n",
       "      <td>C0001</td>\n",
       "      <td>Lawrence Carroll</td>\n",
       "      <td>South America</td>\n",
       "      <td>2022-07-10</td>\n",
       "    </tr>\n",
       "    <tr>\n",
       "      <th>118</th>\n",
       "      <td>C0119</td>\n",
       "      <td>David Armstrong</td>\n",
       "      <td>Europe</td>\n",
       "      <td>2023-11-13</td>\n",
       "    </tr>\n",
       "    <tr>\n",
       "      <th>134</th>\n",
       "      <td>C0135</td>\n",
       "      <td>Toni Weaver</td>\n",
       "      <td>Europe</td>\n",
       "      <td>2022-08-23</td>\n",
       "    </tr>\n",
       "    <tr>\n",
       "      <th>119</th>\n",
       "      <td>C0120</td>\n",
       "      <td>Francisco Diaz</td>\n",
       "      <td>South America</td>\n",
       "      <td>2023-01-13</td>\n",
       "    </tr>\n",
       "  </tbody>\n",
       "</table>\n",
       "</div>"
      ],
      "text/plain": [
       "    CustomerID      CustomerName         Region  SignupDate\n",
       "94       C0095    William Walker  South America  2023-03-04\n",
       "0        C0001  Lawrence Carroll  South America  2022-07-10\n",
       "118      C0119   David Armstrong         Europe  2023-11-13\n",
       "134      C0135       Toni Weaver         Europe  2022-08-23\n",
       "119      C0120    Francisco Diaz  South America  2023-01-13"
      ]
     },
     "execution_count": 2,
     "metadata": {},
     "output_type": "execute_result"
    }
   ],
   "source": [
    "customers=pd.read_csv(\"Customers.csv\")\n",
    "customers.sample(5)"
   ]
  },
  {
   "cell_type": "code",
   "execution_count": 3,
   "id": "3b0f11f4",
   "metadata": {},
   "outputs": [
    {
     "data": {
      "text/html": [
       "<div>\n",
       "<style scoped>\n",
       "    .dataframe tbody tr th:only-of-type {\n",
       "        vertical-align: middle;\n",
       "    }\n",
       "\n",
       "    .dataframe tbody tr th {\n",
       "        vertical-align: top;\n",
       "    }\n",
       "\n",
       "    .dataframe thead th {\n",
       "        text-align: right;\n",
       "    }\n",
       "</style>\n",
       "<table border=\"1\" class=\"dataframe\">\n",
       "  <thead>\n",
       "    <tr style=\"text-align: right;\">\n",
       "      <th></th>\n",
       "      <th>ProductID</th>\n",
       "      <th>ProductName</th>\n",
       "      <th>Category</th>\n",
       "      <th>Price</th>\n",
       "    </tr>\n",
       "  </thead>\n",
       "  <tbody>\n",
       "    <tr>\n",
       "      <th>6</th>\n",
       "      <td>P007</td>\n",
       "      <td>SoundWave Cookbook</td>\n",
       "      <td>Books</td>\n",
       "      <td>420.15</td>\n",
       "    </tr>\n",
       "    <tr>\n",
       "      <th>64</th>\n",
       "      <td>P065</td>\n",
       "      <td>BookWorld Sweater</td>\n",
       "      <td>Clothing</td>\n",
       "      <td>427.61</td>\n",
       "    </tr>\n",
       "    <tr>\n",
       "      <th>97</th>\n",
       "      <td>P098</td>\n",
       "      <td>SoundWave Laptop</td>\n",
       "      <td>Electronics</td>\n",
       "      <td>299.93</td>\n",
       "    </tr>\n",
       "    <tr>\n",
       "      <th>94</th>\n",
       "      <td>P095</td>\n",
       "      <td>BookWorld Cookware Set</td>\n",
       "      <td>Home Decor</td>\n",
       "      <td>227.26</td>\n",
       "    </tr>\n",
       "  </tbody>\n",
       "</table>\n",
       "</div>"
      ],
      "text/plain": [
       "   ProductID             ProductName     Category   Price\n",
       "6       P007      SoundWave Cookbook        Books  420.15\n",
       "64      P065       BookWorld Sweater     Clothing  427.61\n",
       "97      P098        SoundWave Laptop  Electronics  299.93\n",
       "94      P095  BookWorld Cookware Set   Home Decor  227.26"
      ]
     },
     "execution_count": 3,
     "metadata": {},
     "output_type": "execute_result"
    }
   ],
   "source": [
    "products=pd.read_csv(\"Products.csv\")\n",
    "products.sample(4)"
   ]
  },
  {
   "cell_type": "code",
   "execution_count": 4,
   "id": "b5b8230c",
   "metadata": {
    "scrolled": true
   },
   "outputs": [
    {
     "data": {
      "text/html": [
       "<div>\n",
       "<style scoped>\n",
       "    .dataframe tbody tr th:only-of-type {\n",
       "        vertical-align: middle;\n",
       "    }\n",
       "\n",
       "    .dataframe tbody tr th {\n",
       "        vertical-align: top;\n",
       "    }\n",
       "\n",
       "    .dataframe thead th {\n",
       "        text-align: right;\n",
       "    }\n",
       "</style>\n",
       "<table border=\"1\" class=\"dataframe\">\n",
       "  <thead>\n",
       "    <tr style=\"text-align: right;\">\n",
       "      <th></th>\n",
       "      <th>TransactionID</th>\n",
       "      <th>CustomerID</th>\n",
       "      <th>ProductID</th>\n",
       "      <th>TransactionDate</th>\n",
       "      <th>Quantity</th>\n",
       "      <th>TotalValue</th>\n",
       "      <th>Price</th>\n",
       "    </tr>\n",
       "  </thead>\n",
       "  <tbody>\n",
       "    <tr>\n",
       "      <th>84</th>\n",
       "      <td>T00035</td>\n",
       "      <td>C0142</td>\n",
       "      <td>P069</td>\n",
       "      <td>2024-08-20 15:26:04</td>\n",
       "      <td>2</td>\n",
       "      <td>201.62</td>\n",
       "      <td>100.81</td>\n",
       "    </tr>\n",
       "    <tr>\n",
       "      <th>465</th>\n",
       "      <td>T00284</td>\n",
       "      <td>C0022</td>\n",
       "      <td>P059</td>\n",
       "      <td>2024-01-15 07:06:38</td>\n",
       "      <td>4</td>\n",
       "      <td>1212.80</td>\n",
       "      <td>303.20</td>\n",
       "    </tr>\n",
       "    <tr>\n",
       "      <th>882</th>\n",
       "      <td>T00437</td>\n",
       "      <td>C0143</td>\n",
       "      <td>P005</td>\n",
       "      <td>2024-09-11 20:41:10</td>\n",
       "      <td>4</td>\n",
       "      <td>1717.24</td>\n",
       "      <td>429.31</td>\n",
       "    </tr>\n",
       "    <tr>\n",
       "      <th>685</th>\n",
       "      <td>T00429</td>\n",
       "      <td>C0030</td>\n",
       "      <td>P055</td>\n",
       "      <td>2024-12-15 01:23:26</td>\n",
       "      <td>3</td>\n",
       "      <td>385.59</td>\n",
       "      <td>128.53</td>\n",
       "    </tr>\n",
       "    <tr>\n",
       "      <th>807</th>\n",
       "      <td>T00147</td>\n",
       "      <td>C0117</td>\n",
       "      <td>P099</td>\n",
       "      <td>2024-08-05 20:03:50</td>\n",
       "      <td>4</td>\n",
       "      <td>1417.16</td>\n",
       "      <td>354.29</td>\n",
       "    </tr>\n",
       "    <tr>\n",
       "      <th>636</th>\n",
       "      <td>T00084</td>\n",
       "      <td>C0045</td>\n",
       "      <td>P015</td>\n",
       "      <td>2024-08-02 13:45:45</td>\n",
       "      <td>4</td>\n",
       "      <td>635.72</td>\n",
       "      <td>158.93</td>\n",
       "    </tr>\n",
       "  </tbody>\n",
       "</table>\n",
       "</div>"
      ],
      "text/plain": [
       "    TransactionID CustomerID ProductID      TransactionDate  Quantity  \\\n",
       "84         T00035      C0142      P069  2024-08-20 15:26:04         2   \n",
       "465        T00284      C0022      P059  2024-01-15 07:06:38         4   \n",
       "882        T00437      C0143      P005  2024-09-11 20:41:10         4   \n",
       "685        T00429      C0030      P055  2024-12-15 01:23:26         3   \n",
       "807        T00147      C0117      P099  2024-08-05 20:03:50         4   \n",
       "636        T00084      C0045      P015  2024-08-02 13:45:45         4   \n",
       "\n",
       "     TotalValue   Price  \n",
       "84       201.62  100.81  \n",
       "465     1212.80  303.20  \n",
       "882     1717.24  429.31  \n",
       "685      385.59  128.53  \n",
       "807     1417.16  354.29  \n",
       "636      635.72  158.93  "
      ]
     },
     "execution_count": 4,
     "metadata": {},
     "output_type": "execute_result"
    }
   ],
   "source": [
    "transactions=pd.read_csv(\"Transactions.csv\")\n",
    "transactions.sample(6)"
   ]
  },
  {
   "cell_type": "code",
   "execution_count": 5,
   "id": "3a3e79a9",
   "metadata": {},
   "outputs": [
    {
     "name": "stdout",
     "output_type": "stream",
     "text": [
      "<class 'pandas.core.frame.DataFrame'>\n",
      "RangeIndex: 200 entries, 0 to 199\n",
      "Data columns (total 4 columns):\n",
      " #   Column        Non-Null Count  Dtype \n",
      "---  ------        --------------  ----- \n",
      " 0   CustomerID    200 non-null    object\n",
      " 1   CustomerName  200 non-null    object\n",
      " 2   Region        200 non-null    object\n",
      " 3   SignupDate    200 non-null    object\n",
      "dtypes: object(4)\n",
      "memory usage: 6.4+ KB\n"
     ]
    }
   ],
   "source": [
    "customers.info()"
   ]
  },
  {
   "cell_type": "code",
   "execution_count": 6,
   "id": "d7ebba88",
   "metadata": {},
   "outputs": [
    {
     "name": "stdout",
     "output_type": "stream",
     "text": [
      "<class 'pandas.core.frame.DataFrame'>\n",
      "RangeIndex: 100 entries, 0 to 99\n",
      "Data columns (total 4 columns):\n",
      " #   Column       Non-Null Count  Dtype  \n",
      "---  ------       --------------  -----  \n",
      " 0   ProductID    100 non-null    object \n",
      " 1   ProductName  100 non-null    object \n",
      " 2   Category     100 non-null    object \n",
      " 3   Price        100 non-null    float64\n",
      "dtypes: float64(1), object(3)\n",
      "memory usage: 3.2+ KB\n"
     ]
    }
   ],
   "source": [
    "products.info()"
   ]
  },
  {
   "cell_type": "code",
   "execution_count": 7,
   "id": "e1f6898d",
   "metadata": {},
   "outputs": [
    {
     "name": "stdout",
     "output_type": "stream",
     "text": [
      "<class 'pandas.core.frame.DataFrame'>\n",
      "RangeIndex: 1000 entries, 0 to 999\n",
      "Data columns (total 7 columns):\n",
      " #   Column           Non-Null Count  Dtype  \n",
      "---  ------           --------------  -----  \n",
      " 0   TransactionID    1000 non-null   object \n",
      " 1   CustomerID       1000 non-null   object \n",
      " 2   ProductID        1000 non-null   object \n",
      " 3   TransactionDate  1000 non-null   object \n",
      " 4   Quantity         1000 non-null   int64  \n",
      " 5   TotalValue       1000 non-null   float64\n",
      " 6   Price            1000 non-null   float64\n",
      "dtypes: float64(2), int64(1), object(4)\n",
      "memory usage: 54.8+ KB\n"
     ]
    }
   ],
   "source": [
    "transactions.info()"
   ]
  },
  {
   "cell_type": "code",
   "execution_count": 8,
   "id": "f297f4c4",
   "metadata": {},
   "outputs": [],
   "source": [
    "#Converting column SignupDate data type from object to datetime\n",
    "customers['SignupDate'] = pd.to_datetime(customers['SignupDate'])\n",
    "transactions['TransactionDate'] = pd.to_datetime(transactions['TransactionDate'])"
   ]
  },
  {
   "cell_type": "code",
   "execution_count": 9,
   "id": "d858683f",
   "metadata": {},
   "outputs": [
    {
     "name": "stdout",
     "output_type": "stream",
     "text": [
      "<class 'pandas.core.frame.DataFrame'>\n",
      "RangeIndex: 200 entries, 0 to 199\n",
      "Data columns (total 4 columns):\n",
      " #   Column        Non-Null Count  Dtype         \n",
      "---  ------        --------------  -----         \n",
      " 0   CustomerID    200 non-null    object        \n",
      " 1   CustomerName  200 non-null    object        \n",
      " 2   Region        200 non-null    object        \n",
      " 3   SignupDate    200 non-null    datetime64[ns]\n",
      "dtypes: datetime64[ns](1), object(3)\n",
      "memory usage: 6.4+ KB\n"
     ]
    }
   ],
   "source": [
    "customers.info()"
   ]
  },
  {
   "cell_type": "code",
   "execution_count": 10,
   "id": "1a812c16",
   "metadata": {},
   "outputs": [
    {
     "name": "stdout",
     "output_type": "stream",
     "text": [
      "<class 'pandas.core.frame.DataFrame'>\n",
      "RangeIndex: 1000 entries, 0 to 999\n",
      "Data columns (total 7 columns):\n",
      " #   Column           Non-Null Count  Dtype         \n",
      "---  ------           --------------  -----         \n",
      " 0   TransactionID    1000 non-null   object        \n",
      " 1   CustomerID       1000 non-null   object        \n",
      " 2   ProductID        1000 non-null   object        \n",
      " 3   TransactionDate  1000 non-null   datetime64[ns]\n",
      " 4   Quantity         1000 non-null   int64         \n",
      " 5   TotalValue       1000 non-null   float64       \n",
      " 6   Price            1000 non-null   float64       \n",
      "dtypes: datetime64[ns](1), float64(2), int64(1), object(3)\n",
      "memory usage: 54.8+ KB\n"
     ]
    }
   ],
   "source": [
    "transactions.info()"
   ]
  },
  {
   "cell_type": "code",
   "execution_count": 11,
   "id": "ba41c748",
   "metadata": {},
   "outputs": [
    {
     "data": {
      "text/plain": [
       "CustomerID      200\n",
       "CustomerName    200\n",
       "Region          200\n",
       "SignupDate      200\n",
       "dtype: int64"
      ]
     },
     "execution_count": 11,
     "metadata": {},
     "output_type": "execute_result"
    }
   ],
   "source": [
    "customers.isna().count()"
   ]
  },
  {
   "cell_type": "code",
   "execution_count": 12,
   "id": "e074c6be",
   "metadata": {},
   "outputs": [
    {
     "data": {
      "text/plain": [
       "TransactionID      1000\n",
       "CustomerID         1000\n",
       "ProductID          1000\n",
       "TransactionDate    1000\n",
       "Quantity           1000\n",
       "TotalValue         1000\n",
       "Price              1000\n",
       "dtype: int64"
      ]
     },
     "execution_count": 12,
     "metadata": {},
     "output_type": "execute_result"
    }
   ],
   "source": [
    "transactions.isna().count()"
   ]
  },
  {
   "cell_type": "code",
   "execution_count": 13,
   "id": "f7da39f4",
   "metadata": {},
   "outputs": [
    {
     "data": {
      "text/plain": [
       "ProductID      100\n",
       "ProductName    100\n",
       "Category       100\n",
       "Price          100\n",
       "dtype: int64"
      ]
     },
     "execution_count": 13,
     "metadata": {},
     "output_type": "execute_result"
    }
   ],
   "source": [
    "products.isna().count()"
   ]
  },
  {
   "cell_type": "code",
   "execution_count": 13,
   "id": "88bc00a8",
   "metadata": {},
   "outputs": [
    {
     "name": "stdout",
     "output_type": "stream",
     "text": [
      "South America    59\n",
      "Europe           50\n",
      "North America    46\n",
      "Asia             45\n",
      "Name: Region, dtype: int64\n"
     ]
    }
   ],
   "source": [
    "regions_counts=customers['Region'].value_counts()\n",
    "print(regions_counts)"
   ]
  },
  {
   "cell_type": "markdown",
   "id": "23d194c8",
   "metadata": {},
   "source": [
    "<b>EDA(Exploratory Data Analysis)"
   ]
  },
  {
   "cell_type": "code",
   "execution_count": 14,
   "id": "374f8cb8",
   "metadata": {
    "scrolled": true
   },
   "outputs": [
    {
     "name": "stdout",
     "output_type": "stream",
     "text": [
      "Books          26\n",
      "Electronics    26\n",
      "Clothing       25\n",
      "Home Decor     23\n",
      "Name: Category, dtype: int64\n"
     ]
    },
    {
     "data": {
      "image/png": "[encoded data removed]",
      "text/plain": [
       "<Figure size 1000x600 with 1 Axes>"
      ]
     },
     "metadata": {},
     "output_type": "display_data"
    }
   ],
   "source": [
    "print(products['Category'].value_counts())\n",
    "plt.figure(figsize=(10,6))\n",
    "sns.countplot(x='Category',data=products)\n",
    "plt.title(\"Product distribution by category\")\n",
    "plt.show()"
   ]
  },
  {
   "cell_type": "markdown",
   "id": "8a63a538",
   "metadata": {},
   "source": [
    "Most number of product distribution by category is Book and Electronic items"
   ]
  },
  {
   "cell_type": "code",
   "execution_count": 15,
   "id": "6b62cd1b",
   "metadata": {
    "scrolled": true
   },
   "outputs": [
    {
     "name": "stdout",
     "output_type": "stream",
     "text": [
      "South America    59\n",
      "Europe           50\n",
      "North America    46\n",
      "Asia             45\n",
      "Name: Region, dtype: int64\n"
     ]
    },
    {
     "data": {
      "image/png": "[encoded data removed]",
      "text/plain": [
       "<Figure size 1000x600 with 1 Axes>"
      ]
     },
     "metadata": {},
     "output_type": "display_data"
    }
   ],
   "source": [
    "#To check no of customers in different regions\n",
    "print(customers['Region'].value_counts())\n",
    "plt.figure(figsize=(10,6))\n",
    "sns.countplot(x='Region',data=customers)\n",
    "plt.title('Customer Distribution by Region')\n",
    "plt.show()"
   ]
  },
  {
   "cell_type": "markdown",
   "id": "e3d1a4b1",
   "metadata": {},
   "source": [
    "Most Customers are from South America region and least is Asia region."
   ]
  },
  {
   "cell_type": "code",
   "execution_count": 18,
   "id": "1b700dd0",
   "metadata": {},
   "outputs": [
    {
     "data": {
      "text/html": [
       "<div>\n",
       "<style scoped>\n",
       "    .dataframe tbody tr th:only-of-type {\n",
       "        vertical-align: middle;\n",
       "    }\n",
       "\n",
       "    .dataframe tbody tr th {\n",
       "        vertical-align: top;\n",
       "    }\n",
       "\n",
       "    .dataframe thead th {\n",
       "        text-align: right;\n",
       "    }\n",
       "</style>\n",
       "<table border=\"1\" class=\"dataframe\">\n",
       "  <thead>\n",
       "    <tr style=\"text-align: right;\">\n",
       "      <th></th>\n",
       "      <th>TransactionID</th>\n",
       "      <th>CustomerID</th>\n",
       "      <th>ProductID</th>\n",
       "      <th>TransactionDate</th>\n",
       "      <th>Quantity</th>\n",
       "      <th>TotalValue</th>\n",
       "      <th>Price_x</th>\n",
       "      <th>CustomerName</th>\n",
       "      <th>Region</th>\n",
       "      <th>SignupDate</th>\n",
       "      <th>ProductName</th>\n",
       "      <th>Category</th>\n",
       "      <th>Price_y</th>\n",
       "    </tr>\n",
       "  </thead>\n",
       "  <tbody>\n",
       "    <tr>\n",
       "      <th>919</th>\n",
       "      <td>T00953</td>\n",
       "      <td>C0056</td>\n",
       "      <td>P087</td>\n",
       "      <td>2024-03-07 21:09:48</td>\n",
       "      <td>2</td>\n",
       "      <td>580.34</td>\n",
       "      <td>290.17</td>\n",
       "      <td>Erika Fernandez</td>\n",
       "      <td>Asia</td>\n",
       "      <td>2024-04-12</td>\n",
       "      <td>TechPro Running Shoes</td>\n",
       "      <td>Clothing</td>\n",
       "      <td>290.17</td>\n",
       "    </tr>\n",
       "    <tr>\n",
       "      <th>40</th>\n",
       "      <td>T00908</td>\n",
       "      <td>C0089</td>\n",
       "      <td>P079</td>\n",
       "      <td>2024-02-12 15:27:25</td>\n",
       "      <td>4</td>\n",
       "      <td>1669.48</td>\n",
       "      <td>417.37</td>\n",
       "      <td>Paul Carter</td>\n",
       "      <td>Europe</td>\n",
       "      <td>2024-04-02</td>\n",
       "      <td>ActiveWear Rug</td>\n",
       "      <td>Home Decor</td>\n",
       "      <td>417.37</td>\n",
       "    </tr>\n",
       "    <tr>\n",
       "      <th>253</th>\n",
       "      <td>T00943</td>\n",
       "      <td>C0133</td>\n",
       "      <td>P046</td>\n",
       "      <td>2024-01-01 10:21:22</td>\n",
       "      <td>1</td>\n",
       "      <td>366.07</td>\n",
       "      <td>366.07</td>\n",
       "      <td>Gwendolyn Carter</td>\n",
       "      <td>South America</td>\n",
       "      <td>2023-03-11</td>\n",
       "      <td>BookWorld Sweater</td>\n",
       "      <td>Clothing</td>\n",
       "      <td>366.07</td>\n",
       "    </tr>\n",
       "    <tr>\n",
       "      <th>220</th>\n",
       "      <td>T00394</td>\n",
       "      <td>C0063</td>\n",
       "      <td>P097</td>\n",
       "      <td>2024-03-25 13:47:30</td>\n",
       "      <td>4</td>\n",
       "      <td>1277.36</td>\n",
       "      <td>319.34</td>\n",
       "      <td>Wayne Ferguson</td>\n",
       "      <td>Europe</td>\n",
       "      <td>2024-02-05</td>\n",
       "      <td>BookWorld Cookbook</td>\n",
       "      <td>Books</td>\n",
       "      <td>319.34</td>\n",
       "    </tr>\n",
       "    <tr>\n",
       "      <th>263</th>\n",
       "      <td>T00539</td>\n",
       "      <td>C0159</td>\n",
       "      <td>P047</td>\n",
       "      <td>2024-12-13 17:21:14</td>\n",
       "      <td>4</td>\n",
       "      <td>637.32</td>\n",
       "      <td>159.33</td>\n",
       "      <td>Austin Miller</td>\n",
       "      <td>Asia</td>\n",
       "      <td>2022-08-06</td>\n",
       "      <td>ComfortLiving Cookware Set</td>\n",
       "      <td>Home Decor</td>\n",
       "      <td>159.33</td>\n",
       "    </tr>\n",
       "  </tbody>\n",
       "</table>\n",
       "</div>"
      ],
      "text/plain": [
       "    TransactionID CustomerID ProductID     TransactionDate  Quantity  \\\n",
       "919        T00953      C0056      P087 2024-03-07 21:09:48         2   \n",
       "40         T00908      C0089      P079 2024-02-12 15:27:25         4   \n",
       "253        T00943      C0133      P046 2024-01-01 10:21:22         1   \n",
       "220        T00394      C0063      P097 2024-03-25 13:47:30         4   \n",
       "263        T00539      C0159      P047 2024-12-13 17:21:14         4   \n",
       "\n",
       "     TotalValue  Price_x      CustomerName         Region SignupDate  \\\n",
       "919      580.34   290.17   Erika Fernandez           Asia 2024-04-12   \n",
       "40      1669.48   417.37       Paul Carter         Europe 2024-04-02   \n",
       "253      366.07   366.07  Gwendolyn Carter  South America 2023-03-11   \n",
       "220     1277.36   319.34    Wayne Ferguson         Europe 2024-02-05   \n",
       "263      637.32   159.33     Austin Miller           Asia 2022-08-06   \n",
       "\n",
       "                    ProductName    Category  Price_y  \n",
       "919       TechPro Running Shoes    Clothing   290.17  \n",
       "40               ActiveWear Rug  Home Decor   417.37  \n",
       "253           BookWorld Sweater    Clothing   366.07  \n",
       "220          BookWorld Cookbook       Books   319.34  \n",
       "263  ComfortLiving Cookware Set  Home Decor   159.33  "
      ]
     },
     "execution_count": 18,
     "metadata": {},
     "output_type": "execute_result"
    }
   ],
   "source": [
    "#merging datasets transactions,customers and products in order to get information about in which region sales is high\n",
    "merged_datasets=transactions.merge(customers,on='CustomerID').merge(products,on='ProductID')\n",
    "merged_datasets.sample(5)"
   ]
  },
  {
   "cell_type": "code",
   "execution_count": 19,
   "id": "99b1d6b1",
   "metadata": {},
   "outputs": [
    {
     "data": {
      "image/png": "[encoded data removed]",
      "text/plain": [
       "<Figure size 640x480 with 1 Axes>"
      ]
     },
     "metadata": {},
     "output_type": "display_data"
    }
   ],
   "source": [
    "sns.boxplot(x='Region',y='Price_y',data=merged_datasets)\n",
    "plt.show()"
   ]
  }
 ],
 "metadata": {
  "kernelspec": {
   "display_name": "Python 3 (ipykernel)",
   "language": "python",
   "name": "python3"
  },
  "language_info": {
   "codemirror_mode": {
    "name": "ipython",
    "version": 3
   },
   "file_extension": ".py",
   "mimetype": "text/x-python",
   "name": "python",
   "nbconvert_exporter": "python",
   "pygments_lexer": "ipython3",
   "version": "3.10.9"
  }
 },
 "nbformat": 4,
 "nbformat_minor": 5
}
